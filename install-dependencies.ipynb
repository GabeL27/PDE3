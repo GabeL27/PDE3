{
 "cells": [
  {
   "cell_type": "code",
   "execution_count": 4,
   "id": "dressed-techno",
   "metadata": {},
   "outputs": [
    {
     "name": "stdout",
     "output_type": "stream",
     "text": [
      "pip\n",
      "Requirement already satisfied: pip in /usr/local/Cellar/jupyterlab/3.0.16/libexec/lib/python3.9/site-packages (21.1.2)\n",
      "scipy\n",
      "Requirement already satisfied: scipy in /usr/local/Cellar/jupyterlab/3.0.16/libexec/lib/python3.9/site-packages (1.6.3)\n",
      "Requirement already satisfied: numpy<1.23.0,>=1.16.5 in /usr/local/Cellar/jupyterlab/3.0.16/libexec/lib/python3.9/site-packages (from scipy) (1.20.3)\n",
      "numpy\n",
      "Requirement already satisfied: numpy in /usr/local/Cellar/jupyterlab/3.0.16/libexec/lib/python3.9/site-packages (1.20.3)\n",
      "matplotlib\n",
      "Requirement already satisfied: matplotlib in /usr/local/Cellar/jupyterlab/3.0.16/libexec/lib/python3.9/site-packages (3.4.2)\n",
      "Requirement already satisfied: kiwisolver>=1.0.1 in /usr/local/Cellar/jupyterlab/3.0.16/libexec/lib/python3.9/site-packages (from matplotlib) (1.3.1)\n",
      "Requirement already satisfied: numpy>=1.16 in /usr/local/Cellar/jupyterlab/3.0.16/libexec/lib/python3.9/site-packages (from matplotlib) (1.20.3)\n",
      "Requirement already satisfied: cycler>=0.10 in /usr/local/Cellar/jupyterlab/3.0.16/libexec/lib/python3.9/site-packages (from matplotlib) (0.10.0)\n",
      "Requirement already satisfied: python-dateutil>=2.7 in /usr/local/Cellar/jupyterlab/3.0.16/libexec/lib/python3.9/site-packages (from matplotlib) (2.8.1)\n",
      "Requirement already satisfied: pyparsing>=2.2.1 in /usr/local/Cellar/jupyterlab/3.0.16/libexec/lib/python3.9/site-packages (from matplotlib) (2.4.7)\n",
      "Requirement already satisfied: pillow>=6.2.0 in /usr/local/Cellar/jupyterlab/3.0.16/libexec/lib/python3.9/site-packages (from matplotlib) (8.2.0)\n",
      "Requirement already satisfied: six in /usr/local/Cellar/jupyterlab/3.0.16/libexec/lib/python3.9/site-packages (from cycler>=0.10->matplotlib) (1.16.0)\n",
      "sympy\n",
      "Requirement already satisfied: sympy in /usr/local/Cellar/jupyterlab/3.0.16/libexec/lib/python3.9/site-packages (1.8)\n",
      "Requirement already satisfied: mpmath>=0.19 in /usr/local/Cellar/jupyterlab/3.0.16/libexec/lib/python3.9/site-packages (from sympy) (1.2.1)\n",
      "utm\n",
      "Requirement already satisfied: utm in /usr/local/Cellar/jupyterlab/3.0.16/libexec/lib/python3.9/site-packages (0.7.0)\n",
      "netcdf4\n",
      "Requirement already satisfied: netcdf4 in /usr/local/Cellar/jupyterlab/3.0.16/libexec/lib/python3.9/site-packages (1.5.6)\n",
      "Requirement already satisfied: numpy>=1.9 in /usr/local/Cellar/jupyterlab/3.0.16/libexec/lib/python3.9/site-packages (from netcdf4) (1.20.3)\n",
      "Requirement already satisfied: cftime in /usr/local/Cellar/jupyterlab/3.0.16/libexec/lib/python3.9/site-packages (from netcdf4) (1.5.0)\n"
     ]
    }
   ],
   "source": [
    "import sys\n",
    "# install ipython dependencies\n",
    "dep = ['pip', 'scipy', 'numpy', 'matplotlib', 'sympy', 'utm', 'netcdf4']\n",
    "for lib in dep:\n",
    "    print(lib)\n",
    "    !{sys.executable} -m pip install {lib}\n"
   ]
  },
  {
   "cell_type": "code",
   "execution_count": 3,
   "id": "assumed-professional",
   "metadata": {},
   "outputs": [
    {
     "name": "stdout",
     "output_type": "stream",
     "text": [
      "Requirement already satisfied: pip in /usr/local/Cellar/jupyterlab/3.0.16/libexec/lib/python3.9/site-packages (21.1.1)\n",
      "Collecting pip\n",
      "  Downloading pip-21.1.2-py3-none-any.whl (1.5 MB)\n",
      "\u001b[K     |████████████████████████████████| 1.5 MB 4.0 MB/s eta 0:00:01\n",
      "\u001b[?25hInstalling collected packages: pip\n",
      "  Attempting uninstall: pip\n",
      "    Found existing installation: pip 21.1.1\n",
      "    Uninstalling pip-21.1.1:\n",
      "      Successfully uninstalled pip-21.1.1\n",
      "Successfully installed pip-21.1.2\n"
     ]
    }
   ],
   "source": [
    "!{sys.executable} -m pip install --upgrade pip"
   ]
  },
  {
   "cell_type": "code",
   "execution_count": null,
   "id": "black-stuart",
   "metadata": {},
   "outputs": [],
   "source": []
  }
 ],
 "metadata": {
  "kernelspec": {
   "display_name": "Python 3",
   "language": "python",
   "name": "python3"
  },
  "language_info": {
   "codemirror_mode": {
    "name": "ipython",
    "version": 3
   },
   "file_extension": ".py",
   "mimetype": "text/x-python",
   "name": "python",
   "nbconvert_exporter": "python",
   "pygments_lexer": "ipython3",
   "version": "3.9.5"
  }
 },
 "nbformat": 4,
 "nbformat_minor": 5
}
